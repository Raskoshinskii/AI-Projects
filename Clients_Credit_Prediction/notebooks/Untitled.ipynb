{
 "cells": [
  {
   "cell_type": "code",
   "execution_count": 5,
   "id": "9086330c-22f8-4496-9296-38a4bded7c6b",
   "metadata": {},
   "outputs": [
    {
     "data": {
      "text/plain": [
       "{1, 2, 3, 4}"
      ]
     },
     "execution_count": 5,
     "metadata": {},
     "output_type": "execute_result"
    }
   ],
   "source": [
    "# 1. Создание множества \n",
    "company_id_trip = {1, 2, 3, 4, 4 ,2, 1}\n",
    "company_id_trip"
   ]
  },
  {
   "cell_type": "code",
   "execution_count": 19,
   "id": "45f4af04-43f2-432e-b51a-dd4ab62b3f99",
   "metadata": {},
   "outputs": [
    {
     "data": {
      "text/plain": [
       "{1, 2, 3}"
      ]
     },
     "execution_count": 19,
     "metadata": {},
     "output_type": "execute_result"
    }
   ],
   "source": [
    "# 1.1 \n",
    "my_list = [1, 1, 2, 2, 3]\n",
    "my_set = set(my_list)\n",
    "my_set"
   ]
  },
  {
   "cell_type": "code",
   "execution_count": 8,
   "id": "c9fc6c90-96a9-49f0-af7e-36a652c8cd4d",
   "metadata": {},
   "outputs": [
    {
     "data": {
      "text/plain": [
       "{}"
      ]
     },
     "execution_count": 8,
     "metadata": {},
     "output_type": "execute_result"
    }
   ],
   "source": [
    "# 1.2\n",
    "empty_set = {}\n",
    "empty_set"
   ]
  },
  {
   "cell_type": "code",
   "execution_count": 20,
   "id": "c0ccceb4-145d-4808-a151-0a2239630e61",
   "metadata": {},
   "outputs": [
    {
     "name": "stdout",
     "output_type": "stream",
     "text": [
      "{1, 2, 3, 4}\n"
     ]
    }
   ],
   "source": [
    "# 2. Добавление элементов в множество .add()\n",
    "my_set.add(4)\n",
    "print(my_set)"
   ]
  },
  {
   "cell_type": "code",
   "execution_count": 21,
   "id": "d22fc495-b28e-4e64-9568-aa090f473d5b",
   "metadata": {},
   "outputs": [
    {
     "name": "stdout",
     "output_type": "stream",
     "text": [
      "{1, 2, 3}\n"
     ]
    }
   ],
   "source": [
    "# 3. Удаление элементов из множества .remove()\n",
    "my_set.remove(4)\n",
    "print(my_set)"
   ]
  },
  {
   "cell_type": "code",
   "execution_count": 35,
   "id": "d843d070-aca7-4f55-a300-3b6d388893f5",
   "metadata": {},
   "outputs": [],
   "source": [
    "set_A = {1, 2, 3, 4} # A\n",
    "set_B = {3, 4, 5, 6} # B"
   ]
  },
  {
   "cell_type": "code",
   "execution_count": 25,
   "id": "c8f69b4a-6c9e-484d-8ac0-e2b1d0a707aa",
   "metadata": {},
   "outputs": [
    {
     "data": {
      "text/plain": [
       "{1, 2, 3, 4, 5, 6}"
      ]
     },
     "execution_count": 25,
     "metadata": {},
     "output_type": "execute_result"
    }
   ],
   "source": [
    "# 3. Union - объединение\n",
    "set_A.union(set_B)"
   ]
  },
  {
   "cell_type": "code",
   "execution_count": 26,
   "id": "3216822e-ee4b-47f1-95fd-54d96853dc15",
   "metadata": {},
   "outputs": [
    {
     "data": {
      "text/plain": [
       "{3, 4}"
      ]
     },
     "execution_count": 26,
     "metadata": {},
     "output_type": "execute_result"
    }
   ],
   "source": [
    "set_A.intersection(set_B)"
   ]
  },
  {
   "cell_type": "code",
   "execution_count": 36,
   "id": "95c1f04d-7709-4467-9ad2-7a67b8812065",
   "metadata": {},
   "outputs": [
    {
     "data": {
      "text/plain": [
       "{1, 2}"
      ]
     },
     "execution_count": 36,
     "metadata": {},
     "output_type": "execute_result"
    }
   ],
   "source": [
    "set_A.difference(set_B)"
   ]
  },
  {
   "cell_type": "code",
   "execution_count": 28,
   "id": "a8c731d0-0f10-47f8-b57d-e2286ae0acd6",
   "metadata": {},
   "outputs": [
    {
     "data": {
      "text/plain": [
       "{5, 6}"
      ]
     },
     "execution_count": 28,
     "metadata": {},
     "output_type": "execute_result"
    }
   ],
   "source": [
    "set_B.difference(set_A)"
   ]
  },
  {
   "cell_type": "code",
   "execution_count": 34,
   "id": "94d7c1bd-e01b-4d9d-82e2-03ae5fd7fea8",
   "metadata": {},
   "outputs": [
    {
     "data": {
      "text/plain": [
       "{1, 2, 5, 6}"
      ]
     },
     "execution_count": 34,
     "metadata": {},
     "output_type": "execute_result"
    }
   ],
   "source": [
    "set_A.symmetric_difference(set_B)"
   ]
  },
  {
   "cell_type": "code",
   "execution_count": 39,
   "id": "d6e5f29e-597c-4fe5-9384-dfe3c7a891f4",
   "metadata": {},
   "outputs": [],
   "source": [
    "# 1. Создание словаря \n",
    "my_dict = {}\n",
    "my_dict = dict()"
   ]
  },
  {
   "cell_type": "code",
   "execution_count": 75,
   "id": "22f3e1d8-0320-4b0d-8a38-3e389abd21ff",
   "metadata": {},
   "outputs": [],
   "source": [
    "company_dict = {}\n",
    "\n",
    "company_dict = {\n",
    "    'company_A': ['Moskovskay 22', 250],\n",
    "    'company_B': ['Peterburgskaya 10', 500]\n",
    "}\n",
    "\n",
    "# company_dict = {0: 'description ...',\n",
    "#                 1: 'description ...'}\n",
    "\n",
    "# company_dict = {(59, 0): 'description ...',\n",
    "#                 (78, 3): 'description ..'}"
   ]
  },
  {
   "cell_type": "code",
   "execution_count": 85,
   "id": "2835b85d-2f8b-4518-9e0b-fa47040c5f72",
   "metadata": {},
   "outputs": [
    {
     "name": "stdout",
     "output_type": "stream",
     "text": [
      "Street:  Moskovskay 22\n",
      "N employes:  250\n"
     ]
    }
   ],
   "source": [
    "values_comp_A = company_dict['company_A']\n",
    "\n",
    "print('Street: ', values_comp_A[0])\n",
    "print('N employes: ', values_comp_A[1])"
   ]
  },
  {
   "cell_type": "code",
   "execution_count": 46,
   "id": "2af56df2-5210-4ebc-87f7-59f9f9f0e123",
   "metadata": {},
   "outputs": [
    {
     "data": {
      "text/plain": [
       "dict_keys([0, 1])"
      ]
     },
     "execution_count": 46,
     "metadata": {},
     "output_type": "execute_result"
    }
   ],
   "source": [
    "# Получение ключей \n",
    "company_dict.keys()"
   ]
  },
  {
   "cell_type": "code",
   "execution_count": 47,
   "id": "c67fe7e7-b9a6-4304-a65d-bf32f441669f",
   "metadata": {},
   "outputs": [
    {
     "data": {
      "text/plain": [
       "dict_values(['description ...', 'description ...'])"
      ]
     },
     "execution_count": 47,
     "metadata": {},
     "output_type": "execute_result"
    }
   ],
   "source": [
    "# Получение значений\n",
    "company_dict.values()"
   ]
  },
  {
   "cell_type": "code",
   "execution_count": 48,
   "id": "4ee10020-013f-46a8-87f3-eb8a4c37d13a",
   "metadata": {},
   "outputs": [
    {
     "data": {
      "text/plain": [
       "dict_items([(0, 'description ...'), (1, 'description ...')])"
      ]
     },
     "execution_count": 48,
     "metadata": {},
     "output_type": "execute_result"
    }
   ],
   "source": [
    "company_dict.items()"
   ]
  },
  {
   "cell_type": "code",
   "execution_count": 51,
   "id": "08b91417-d33c-4886-b0d9-b7538326b196",
   "metadata": {},
   "outputs": [
    {
     "data": {
      "text/plain": [
       "'description ...'"
      ]
     },
     "execution_count": 51,
     "metadata": {},
     "output_type": "execute_result"
    }
   ],
   "source": [
    "# Обращение к элементам словаря\n",
    "company_dict[0]"
   ]
  },
  {
   "cell_type": "code",
   "execution_count": 52,
   "id": "588af1fd-2aaa-468d-9d44-b6e9ff17d02a",
   "metadata": {},
   "outputs": [
    {
     "data": {
      "text/plain": [
       "{0: 'description ...', 1: 'description ...', 2: 'new company'}"
      ]
     },
     "execution_count": 52,
     "metadata": {},
     "output_type": "execute_result"
    }
   ],
   "source": [
    "# Создание новой пары ключ-значение\n",
    "company_dict[2] = 'new company'\n",
    "company_dict"
   ]
  },
  {
   "cell_type": "code",
   "execution_count": 53,
   "id": "a7fb0b31-26ec-418b-a0de-c2938f30c9ad",
   "metadata": {},
   "outputs": [],
   "source": [
    "# Удаление ключа\n",
    "del company_dict[0]"
   ]
  },
  {
   "cell_type": "code",
   "execution_count": 55,
   "id": "9a206b19-0fbd-46dc-9b1a-367c3e2788cf",
   "metadata": {},
   "outputs": [],
   "source": [
    "# Перезапись значения ключа\n",
    "company_dict[1] = 'new definition'"
   ]
  },
  {
   "cell_type": "code",
   "execution_count": null,
   "id": "777bb580-6096-44c9-9e06-629bc5155670",
   "metadata": {},
   "outputs": [],
   "source": []
  },
  {
   "cell_type": "code",
   "execution_count": null,
   "id": "a1aea132-e7d8-49fe-8c58-b044495c31ba",
   "metadata": {},
   "outputs": [],
   "source": []
  }
 ],
 "metadata": {
  "kernelspec": {
   "display_name": "Python 3",
   "language": "python",
   "name": "python3"
  },
  "language_info": {
   "codemirror_mode": {
    "name": "ipython",
    "version": 3
   },
   "file_extension": ".py",
   "mimetype": "text/x-python",
   "name": "python",
   "nbconvert_exporter": "python",
   "pygments_lexer": "ipython3",
   "version": "3.7.9"
  }
 },
 "nbformat": 4,
 "nbformat_minor": 5
}
