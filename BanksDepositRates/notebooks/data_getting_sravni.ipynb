{
 "cells": [
  {
   "cell_type": "code",
   "execution_count": 1,
   "metadata": {},
   "outputs": [],
   "source": [
    "import pandas as pd\n",
    "\n",
    "from data_scraper.main import request_data_from_sravni"
   ]
  },
  {
   "cell_type": "code",
   "execution_count": 8,
   "metadata": {},
   "outputs": [
    {
     "name": "stderr",
     "output_type": "stream",
     "text": [
      "2025-01-07 19:20:44,357 - INFO - Make Request ...\n",
      "2025-01-07 19:20:46,804 - INFO - Get JSON -> Success!\n",
      "2025-01-07 19:20:46,805 - INFO - Parse JSON ...\n",
      "2025-01-07 19:20:46,810 - INFO - Parse JSON -> Success!\n",
      "2025-01-07 19:20:46,816 - INFO - Data Preprocessing ...\n",
      "2025-01-07 19:20:46,829 - INFO - Data Preprocessing -> Success!\n"
     ]
    }
   ],
   "source": [
    "# получаем данные\n",
    "banks_df, offers_df = request_data_from_sravni()"
   ]
  },
  {
   "cell_type": "code",
   "execution_count": 11,
   "metadata": {},
   "outputs": [
    {
     "data": {
      "text/html": [
       "<div>\n",
       "<style scoped>\n",
       "    .dataframe tbody tr th:only-of-type {\n",
       "        vertical-align: middle;\n",
       "    }\n",
       "\n",
       "    .dataframe tbody tr th {\n",
       "        vertical-align: top;\n",
       "    }\n",
       "\n",
       "    .dataframe thead th {\n",
       "        text-align: right;\n",
       "    }\n",
       "</style>\n",
       "<table border=\"1\" class=\"dataframe\">\n",
       "  <thead>\n",
       "    <tr style=\"text-align: right;\">\n",
       "      <th></th>\n",
       "      <th>name</th>\n",
       "      <th>rate</th>\n",
       "      <th>online_rate</th>\n",
       "      <th>term</th>\n",
       "      <th>amount_from</th>\n",
       "      <th>amount_to</th>\n",
       "      <th>offer_count</th>\n",
       "      <th>final_rate</th>\n",
       "      <th>date</th>\n",
       "    </tr>\n",
       "  </thead>\n",
       "  <tbody>\n",
       "    <tr>\n",
       "      <th>0</th>\n",
       "      <td>Транскапиталбанк</td>\n",
       "      <td>23.9</td>\n",
       "      <td>0.00</td>\n",
       "      <td>180 дней</td>\n",
       "      <td>100000</td>\n",
       "      <td>3000000.0</td>\n",
       "      <td>3</td>\n",
       "      <td>23.9</td>\n",
       "      <td>2025-01-07 19:20:46.827763</td>\n",
       "    </tr>\n",
       "    <tr>\n",
       "      <th>1</th>\n",
       "      <td>Локо-Банк</td>\n",
       "      <td>23.5</td>\n",
       "      <td>0.00</td>\n",
       "      <td>182 дня</td>\n",
       "      <td>300000</td>\n",
       "      <td>5000000.0</td>\n",
       "      <td>1</td>\n",
       "      <td>23.5</td>\n",
       "      <td>2025-01-07 19:20:46.827763</td>\n",
       "    </tr>\n",
       "    <tr>\n",
       "      <th>2</th>\n",
       "      <td>Банк ДОМ.РФ</td>\n",
       "      <td>22.7</td>\n",
       "      <td>0.00</td>\n",
       "      <td>181 день</td>\n",
       "      <td>10000</td>\n",
       "      <td>15000000.0</td>\n",
       "      <td>6</td>\n",
       "      <td>22.7</td>\n",
       "      <td>2025-01-07 19:20:46.827763</td>\n",
       "    </tr>\n",
       "    <tr>\n",
       "      <th>3</th>\n",
       "      <td>Газпромбанк</td>\n",
       "      <td>24.0</td>\n",
       "      <td>0.01</td>\n",
       "      <td>от 1 дня</td>\n",
       "      <td>1</td>\n",
       "      <td>1500000.0</td>\n",
       "      <td>0</td>\n",
       "      <td>24.0</td>\n",
       "      <td>2025-01-07 19:20:46.827763</td>\n",
       "    </tr>\n",
       "    <tr>\n",
       "      <th>4</th>\n",
       "      <td>Альфа-Банк</td>\n",
       "      <td>20.0</td>\n",
       "      <td>20.00</td>\n",
       "      <td>от 1 дня</td>\n",
       "      <td>1</td>\n",
       "      <td>1500000.0</td>\n",
       "      <td>0</td>\n",
       "      <td>20.0</td>\n",
       "      <td>2025-01-07 19:20:46.827763</td>\n",
       "    </tr>\n",
       "  </tbody>\n",
       "</table>\n",
       "</div>"
      ],
      "text/plain": [
       "               name  rate  online_rate      term  amount_from   amount_to  \\\n",
       "0  Транскапиталбанк  23.9         0.00  180 дней       100000   3000000.0   \n",
       "1         Локо-Банк  23.5         0.00   182 дня       300000   5000000.0   \n",
       "2       Банк ДОМ.РФ  22.7         0.00  181 день        10000  15000000.0   \n",
       "3       Газпромбанк  24.0         0.01  от 1 дня            1   1500000.0   \n",
       "4        Альфа-Банк  20.0        20.00  от 1 дня            1   1500000.0   \n",
       "\n",
       "   offer_count  final_rate                       date  \n",
       "0            3        23.9 2025-01-07 19:20:46.827763  \n",
       "1            1        23.5 2025-01-07 19:20:46.827763  \n",
       "2            6        22.7 2025-01-07 19:20:46.827763  \n",
       "3            0        24.0 2025-01-07 19:20:46.827763  \n",
       "4            0        20.0 2025-01-07 19:20:46.827763  "
      ]
     },
     "execution_count": 11,
     "metadata": {},
     "output_type": "execute_result"
    }
   ],
   "source": [
    "banks_df.head()"
   ]
  },
  {
   "cell_type": "code",
   "execution_count": 13,
   "metadata": {},
   "outputs": [
    {
     "data": {
      "text/html": [
       "<div>\n",
       "<style scoped>\n",
       "    .dataframe tbody tr th:only-of-type {\n",
       "        vertical-align: middle;\n",
       "    }\n",
       "\n",
       "    .dataframe tbody tr th {\n",
       "        vertical-align: top;\n",
       "    }\n",
       "\n",
       "    .dataframe thead th {\n",
       "        text-align: right;\n",
       "    }\n",
       "</style>\n",
       "<table border=\"1\" class=\"dataframe\">\n",
       "  <thead>\n",
       "    <tr style=\"text-align: right;\">\n",
       "      <th></th>\n",
       "      <th>bank_name</th>\n",
       "      <th>rate</th>\n",
       "      <th>online_rate</th>\n",
       "      <th>term</th>\n",
       "      <th>amount_from</th>\n",
       "      <th>amount_to</th>\n",
       "      <th>final_rate</th>\n",
       "      <th>date</th>\n",
       "    </tr>\n",
       "  </thead>\n",
       "  <tbody>\n",
       "    <tr>\n",
       "      <th>0</th>\n",
       "      <td>Транскапиталбанк</td>\n",
       "      <td>23.25</td>\n",
       "      <td>0.0</td>\n",
       "      <td>365 дней</td>\n",
       "      <td>100000</td>\n",
       "      <td>3000000.0</td>\n",
       "      <td>23.25</td>\n",
       "      <td>2025-01-07 19:20:46.828786</td>\n",
       "    </tr>\n",
       "    <tr>\n",
       "      <th>1</th>\n",
       "      <td>Транскапиталбанк</td>\n",
       "      <td>22.20</td>\n",
       "      <td>0.0</td>\n",
       "      <td>90 дней</td>\n",
       "      <td>100000</td>\n",
       "      <td>3000000.0</td>\n",
       "      <td>22.20</td>\n",
       "      <td>2025-01-07 19:20:46.828786</td>\n",
       "    </tr>\n",
       "    <tr>\n",
       "      <th>2</th>\n",
       "      <td>Транскапиталбанк</td>\n",
       "      <td>10.25</td>\n",
       "      <td>0.0</td>\n",
       "      <td>1110 дней</td>\n",
       "      <td>100000</td>\n",
       "      <td>3000000.0</td>\n",
       "      <td>10.25</td>\n",
       "      <td>2025-01-07 19:20:46.828786</td>\n",
       "    </tr>\n",
       "    <tr>\n",
       "      <th>3</th>\n",
       "      <td>Локо-Банк</td>\n",
       "      <td>22.50</td>\n",
       "      <td>0.0</td>\n",
       "      <td>370 дней</td>\n",
       "      <td>300000</td>\n",
       "      <td>5000000.0</td>\n",
       "      <td>22.50</td>\n",
       "      <td>2025-01-07 19:20:46.828786</td>\n",
       "    </tr>\n",
       "    <tr>\n",
       "      <th>4</th>\n",
       "      <td>Банк ДОМ.РФ</td>\n",
       "      <td>22.40</td>\n",
       "      <td>0.0</td>\n",
       "      <td>91 день</td>\n",
       "      <td>10000</td>\n",
       "      <td>15000000.0</td>\n",
       "      <td>22.40</td>\n",
       "      <td>2025-01-07 19:20:46.828786</td>\n",
       "    </tr>\n",
       "  </tbody>\n",
       "</table>\n",
       "</div>"
      ],
      "text/plain": [
       "          bank_name   rate  online_rate       term  amount_from   amount_to  \\\n",
       "0  Транскапиталбанк  23.25          0.0   365 дней       100000   3000000.0   \n",
       "1  Транскапиталбанк  22.20          0.0    90 дней       100000   3000000.0   \n",
       "2  Транскапиталбанк  10.25          0.0  1110 дней       100000   3000000.0   \n",
       "3         Локо-Банк  22.50          0.0   370 дней       300000   5000000.0   \n",
       "4       Банк ДОМ.РФ  22.40          0.0    91 день        10000  15000000.0   \n",
       "\n",
       "   final_rate                       date  \n",
       "0       23.25 2025-01-07 19:20:46.828786  \n",
       "1       22.20 2025-01-07 19:20:46.828786  \n",
       "2       10.25 2025-01-07 19:20:46.828786  \n",
       "3       22.50 2025-01-07 19:20:46.828786  \n",
       "4       22.40 2025-01-07 19:20:46.828786  "
      ]
     },
     "execution_count": 13,
     "metadata": {},
     "output_type": "execute_result"
    }
   ],
   "source": [
    "offers_df.head()"
   ]
  },
  {
   "cell_type": "code",
   "execution_count": 14,
   "metadata": {},
   "outputs": [
    {
     "name": "stdout",
     "output_type": "stream",
     "text": [
      "Размер DataFrame в памяти: 197.87 KB\n",
      "Размер DataFrame в памяти: 47.73 KB\n"
     ]
    },
    {
     "data": {
      "text/plain": [
       "np.int64(251494)"
      ]
     },
     "execution_count": 14,
     "metadata": {},
     "output_type": "execute_result"
    }
   ],
   "source": [
    "memory_usage_a = offers_df.memory_usage(deep=True).sum()\n",
    "print(f\"Размер DataFrame в памяти: {memory_usage_a / 1024:.2f} KB\")\n",
    "\n",
    "memory_usage_b = banks_df.memory_usage(deep=True).sum()\n",
    "print(f\"Размер DataFrame в памяти: {memory_usage_b / 1024:.2f} KB\")\n",
    "\n",
    "total_mem_usage_kb = (memory_usage_a + memory_usage_b)\n",
    "total_mem_usage_kb"
   ]
  },
  {
   "cell_type": "code",
   "execution_count": 16,
   "metadata": {},
   "outputs": [],
   "source": [
    "# сохраянем данные\n",
    "banks_df.to_excel('./scraped_data/banks.xlsx')\n",
    "offers_df.to_excel('./scraped_data/offers.xlsx')"
   ]
  },
  {
   "cell_type": "code",
   "execution_count": null,
   "metadata": {},
   "outputs": [],
   "source": []
  }
 ],
 "metadata": {
  "kernelspec": {
   "display_name": "banks_env",
   "language": "python",
   "name": "python3"
  },
  "language_info": {
   "codemirror_mode": {
    "name": "ipython",
    "version": 3
   },
   "file_extension": ".py",
   "mimetype": "text/x-python",
   "name": "python",
   "nbconvert_exporter": "python",
   "pygments_lexer": "ipython3",
   "version": "3.10.0"
  }
 },
 "nbformat": 4,
 "nbformat_minor": 2
}
