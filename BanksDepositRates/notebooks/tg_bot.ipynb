{
 "cells": [
  {
   "cell_type": "code",
   "execution_count": 10,
   "metadata": {},
   "outputs": [],
   "source": [
    "import os\n",
    "import telebot\n",
    "from telegram_bot.db import get_interest_rate_data\n",
    "from telegram_bot.db import get_message"
   ]
  },
  {
   "cell_type": "code",
   "execution_count": 2,
   "metadata": {},
   "outputs": [
    {
     "data": {
      "text/plain": [
       "[{'name': 'ПСБ',\n",
       "  'rate': 30.0,\n",
       "  'online_rate': 0.0,\n",
       "  'term': '91 – 367 дней',\n",
       "  'amount_from': 50000,\n",
       "  'amount_to': 50000.0,\n",
       "  'offer_count': 8,\n",
       "  'final_rate': 30.0},\n",
       " {'name': 'БыстроБанк',\n",
       "  'rate': 25.0,\n",
       "  'online_rate': 0.0,\n",
       "  'term': '1830 – 1840 дней',\n",
       "  'amount_from': 10000,\n",
       "  'amount_to': 5000000.0,\n",
       "  'offer_count': 6,\n",
       "  'final_rate': 25.0}]"
      ]
     },
     "execution_count": 2,
     "metadata": {},
     "output_type": "execute_result"
    }
   ],
   "source": [
    "data = get_interest_rate_data()\n",
    "data[:2]"
   ]
  },
  {
   "cell_type": "code",
   "execution_count": 15,
   "metadata": {},
   "outputs": [],
   "source": [
    "# определяем бота\n",
    "TELEGRAM_TOKEN = os.getenv(\"TELEGRAM_TOKEN\")\n",
    "VLAD_CHAT_ID = os.getenv(\"VLAD_CHAT_ID\")\n",
    "ALEX_CHAT_ID = os.getenv(\"ALEX_CHAT_ID\")\n",
    "\n",
    "bot = telebot.TeleBot(TELEGRAM_TOKEN)"
   ]
  },
  {
   "cell_type": "code",
   "execution_count": 16,
   "metadata": {},
   "outputs": [
    {
     "data": {
      "text/plain": [
       "'Вот топ-10 Предложений на Сегодня 💰\\n\\n\\n💸💎💸💎💸💎💸💎💸💎💸💎💸\\nБанк: ПСБ\\nСтавка: 30.0%\\nОнлайн Ставка: 0.0%\\nСрок: 91 – 367 дней\\nМинимальная Сумма: 50000 RUB\\nМаксимальная Сумма: 50000.0 RUB\\nКоличество Предложений: 8\\nИтоговая Ставка: 30.0%\\n💸💎💸💎💸💎💸💎💸💎💸💎💸\\n\\n\\n💸💎💸💎💸💎💸💎💸💎💸💎💸\\nБанк: БыстроБанк\\nСтавка: 25.0%\\nОнлайн Ставка: 0.0%\\nСрок: 1830 – 1840 дней\\nМинимальная Сумма: 10000 RUB\\nМаксимальная Сумма: 5000000.0 RUB\\nКоличество Предложений: 6\\nИтоговая Ставка: 25.0%\\n💸💎💸💎💸💎💸💎💸💎💸💎💸\\n\\n\\n💸💎💸💎💸💎💸💎💸💎💸💎💸\\nБанк: Таврический\\nСтавка: 25.0%\\nОнлайн Ставка: 0.0%\\nСрок: 91 – 1095 дней\\nМинимальная Сумма: 50000 RUB\\nМаксимальная Сумма: None RUB\\nКоличество Предложений: 7\\nИтоговая Ставка: 25.0%\\n💸💎💸💎💸💎💸💎💸💎💸💎💸\\n\\n\\n💸💎💸💎💸💎💸💎💸💎💸💎💸\\nБанк: Инвестторгбанк\\nСтавка: 25.0%\\nОнлайн Ставка: 0.0%\\nСрок: 91 – 370 дней\\nМинимальная Сумма: 50000 RUB\\nМаксимальная Сумма: None RUB\\nКоличество Предложений: 6\\nИтоговая Ставка: 25.0%\\n💸💎💸💎💸💎💸💎💸💎💸💎💸\\n\\n\\n💸💎💸💎💸💎💸💎💸💎💸💎💸\\nБанк: Банк «Санкт-Петербург»\\nСтавка: 25.0%\\nОнлайн Ставка: 25.0%\\nСрок: 31 – 1825 дней\\nМинимальная Сумма: 10000 RUB\\nМаксимальная Сумма: None RUB\\nКоличество Предложений: 5\\nИтоговая Ставка: 25.0%\\n💸💎💸💎💸💎💸💎💸💎💸💎💸\\n\\n\\n💸💎💸💎💸💎💸💎💸💎💸💎💸\\nБанк: Транскапиталбанк\\nСтавка: 24.5%\\nОнлайн Ставка: 0.0%\\nСрок: 91 – 370 дней\\nМинимальная Сумма: 50000 RUB\\nМаксимальная Сумма: None RUB\\nКоличество Предложений: 5\\nИтоговая Ставка: 24.5%\\n💸💎💸💎💸💎💸💎💸💎💸💎💸\\n\\n\\n💸💎💸💎💸💎💸💎💸💎💸💎💸\\nБанк: Реалист Банк\\nСтавка: 24.3%\\nОнлайн Ставка: 0.0%\\nСрок: 91 – 370 дней\\nМинимальная Сумма: 10000 RUB\\nМаксимальная Сумма: None RUB\\nКоличество Предложений: 9\\nИтоговая Ставка: 24.3%\\n💸💎💸💎💸💎💸💎💸💎💸💎💸\\n\\n\\n💸💎💸💎💸💎💸💎💸💎💸💎💸\\nБанк: Норвик Банк\\nСтавка: 24.19%\\nОнлайн Ставка: 0.0%\\nСрок: 183 дня\\nМинимальная Сумма: 100000 RUB\\nМаксимальная Сумма: 50000000.0 RUB\\nКоличество Предложений: 13\\nИтоговая Ставка: 24.19%\\n💸💎💸💎💸💎💸💎💸💎💸💎💸\\n\\n\\n💸💎💸💎💸💎💸💎💸💎💸💎💸\\nБанк: Международный финансовый клуб\\nСтавка: 24.05%\\nОнлайн Ставка: 0.0%\\nСрок: 3 – 24 месяцев\\nМинимальная Сумма: 100000 RUB\\nМаксимальная Сумма: None RUB\\nКоличество Предложений: 3\\nИтоговая Ставка: 24.05%\\n💸💎💸💎💸💎💸💎💸💎💸💎💸\\n\\n\\n💸💎💸💎💸💎💸💎💸💎💸💎💸\\nБанк: Альфа-Банк\\nСтавка: 24.0%\\nОнлайн Ставка: 24.0%\\nСрок: от 1 дня\\nМинимальная Сумма: 1 RUB\\nМаксимальная Сумма: 1500000.0 RUB\\nКоличество Предложений: 0\\nИтоговая Ставка: 24.0%\\n💸💎💸💎💸💎💸💎💸💎💸💎💸\\n\\n💡Спасибо, что ознакомились с предложениями!\\n\\nНадеемся, эта информация поможет вам принять лучшее решение 🧠'"
      ]
     },
     "execution_count": 16,
     "metadata": {},
     "output_type": "execute_result"
    }
   ],
   "source": [
    "# формируем сообщение\n",
    "message = get_message()\n",
    "message"
   ]
  },
  {
   "cell_type": "code",
   "execution_count": 17,
   "metadata": {},
   "outputs": [
    {
     "data": {
      "text/plain": [
       "<telebot.types.Message at 0x7f95f1799030>"
      ]
     },
     "execution_count": 17,
     "metadata": {},
     "output_type": "execute_result"
    }
   ],
   "source": [
    "bot.send_message(VLAD_CHAT_ID, message)\n",
    "bot.send_message(ALEX_CHAT_ID, message)"
   ]
  },
  {
   "cell_type": "code",
   "execution_count": null,
   "metadata": {},
   "outputs": [],
   "source": []
  }
 ],
 "metadata": {
  "kernelspec": {
   "display_name": "banks_env",
   "language": "python",
   "name": "python3"
  },
  "language_info": {
   "codemirror_mode": {
    "name": "ipython",
    "version": 3
   },
   "file_extension": ".py",
   "mimetype": "text/x-python",
   "name": "python",
   "nbconvert_exporter": "python",
   "pygments_lexer": "ipython3",
   "version": "3.10.0"
  }
 },
 "nbformat": 4,
 "nbformat_minor": 2
}
