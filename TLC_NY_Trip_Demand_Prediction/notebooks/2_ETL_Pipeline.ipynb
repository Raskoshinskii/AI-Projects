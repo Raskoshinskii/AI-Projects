{
 "cells": [
  {
   "cell_type": "code",
   "execution_count": null,
   "metadata": {},
   "outputs": [],
   "source": [
    "from src.data_preprocessing import *"
   ]
  },
  {
   "cell_type": "markdown",
   "metadata": {},
   "source": [
    "Let's prepare series from `2020-01` to `2021-07`\n",
    "\n",
    "Since we are working with time series, it is better to have data for all months. **That's why we don't specify days**\n",
    "\n",
    "All scripts were prepared in advance and are located in the `data_preprocessing.py` module.\n",
    "\n",
    "**There is also an implementation on PySpark** in the `data_preprocessing_pyspark.py` module"
   ]
  },
  {
   "cell_type": "code",
   "execution_count": 2,
   "metadata": {},
   "outputs": [],
   "source": [
    "# Main Parameters\n",
    "DATE_START = '2020-01'\n",
    "DATE_END = '2021-07'\n",
    "PROJECT_SOURCE = 'D:/AI-Projects/Machine_Learning/ENG/TLC_NY_Trip_Demand_Prediction'"
   ]
  },
  {
   "cell_type": "code",
   "execution_count": 3,
   "metadata": {},
   "outputs": [],
   "source": [
    "# GeoData Processing (polygons) \n",
    "polygon_data = preprocess_polygon_data('taxi_zones_polygons.geojson', file_path=PROJECT_SOURCE)\n",
    "UNIQUE_DISTRICTS = polygon_data['location_id'].unique().tolist()"
   ]
  },
  {
   "cell_type": "code",
   "execution_count": 4,
   "metadata": {},
   "outputs": [
    {
     "name": "stderr",
     "output_type": "stream",
     "text": [
      " 11%|█         | 2/19 [00:55<07:50, 27.70s/it]"
     ]
    },
    {
     "name": "stdout",
     "output_type": "stream",
     "text": [
      "Missing Date Found:  {Timestamp('2020-03-08 02:00:00', freq='H')}\n"
     ]
    },
    {
     "name": "stderr",
     "output_type": "stream",
     "text": [
      " 74%|███████▎  | 14/19 [02:49<00:52, 10.44s/it]"
     ]
    },
    {
     "name": "stdout",
     "output_type": "stream",
     "text": [
      "Missing Date Found:  {Timestamp('2021-03-14 02:00:00', freq='H')}\n"
     ]
    },
    {
     "name": "stderr",
     "output_type": "stream",
     "text": [
      "100%|██████████| 19/19 [04:02<00:00, 12.77s/it]\n"
     ]
    }
   ],
   "source": [
    "# ETL\n",
    "f_path = PROJECT_SOURCE+'/taxi_data'\n",
    "trips_df, mean_trips_df = get_series_data(file_path=f_path,\n",
    "                                          start_date=DATE_START, \n",
    "                                          end_date=DATE_END,\n",
    "                                          unique_districts=UNIQUE_DISTRICTS,\n",
    "                                          get_monthly_avg=True)"
   ]
  },
  {
   "cell_type": "markdown",
   "metadata": {},
   "source": [
    "There are a couple of areas of the city in which trips were not made at all, we will exclude such areas.\n",
    "\n",
    "**We cannot predict for regions 103 and 104 (no data)** and for further analysis these series will be just noise"
   ]
  },
  {
   "cell_type": "code",
   "execution_count": 7,
   "metadata": {},
   "outputs": [
    {
     "name": "stdout",
     "output_type": "stream",
     "text": [
      "Districts with only 0 values:\n",
      "103\n",
      "104\n"
     ]
    }
   ],
   "source": [
    "# Find districts with only zero values\n",
    "print('Districts with only 0 values:')\n",
    "for district in trips_df['PULocationID'].unique():\n",
    "    if trips_df[trips_df['PULocationID'] == district]['n_trips'].sum() == 0:\n",
    "        print(district)"
   ]
  },
  {
   "cell_type": "code",
   "execution_count": 8,
   "metadata": {},
   "outputs": [],
   "source": [
    "# Exclude districts 103 и 104\n",
    "trips_df = trips_df[~trips_df['PULocationID'].isin([103, 104])]\n",
    "mean_trips_df = mean_trips_df[~mean_trips_df['PULocationID'].isin([103, 104])]"
   ]
  },
  {
   "cell_type": "markdown",
   "metadata": {},
   "source": [
    "### Saving Results"
   ]
  },
  {
   "cell_type": "code",
   "execution_count": null,
   "metadata": {},
   "outputs": [],
   "source": [
    "# Save processed data\n",
    "os.chdir(PROJECT_SOURCE+'/processed_data')\n",
    "\n",
    "trips_df.to_csv('processed_ts_main.csv', index=False)\n",
    "mean_trips_df.to_csv('processed_ts_monthly.csv', index=False)"
   ]
  }
 ],
 "metadata": {
  "kernelspec": {
   "display_name": "Python 3",
   "language": "python",
   "name": "python3"
  },
  "language_info": {
   "codemirror_mode": {
    "name": "ipython",
    "version": 3
   },
   "file_extension": ".py",
   "mimetype": "text/x-python",
   "name": "python",
   "nbconvert_exporter": "python",
   "pygments_lexer": "ipython3",
   "version": "3.7.9"
  }
 },
 "nbformat": 4,
 "nbformat_minor": 4
}
