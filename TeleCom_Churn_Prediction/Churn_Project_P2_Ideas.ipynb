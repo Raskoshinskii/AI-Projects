{
 "cells": [
  {
   "cell_type": "markdown",
   "metadata": {},
   "source": [
    "### Project Ideas \n",
    "### Feature Processing \n",
    "Since we are dealing with categorical and numeric features it's a good idea to discuss how to process them:\n",
    "- How to fill missing values?\n",
    "- How to encode categorical features?\n",
    "- How to scale the features?\n",
    "\n",
    "For **encoding categorical features** we can apply:\n",
    "- `One-Hot-Encoding`\n",
    "- `Dummy Variables`\n",
    "- `Label Encoder` probably not a good idea because we don't know anything about the features\n",
    "\n",
    "For **numeric feature scaling** we can apply:\n",
    "- `StandardScaler()`\n",
    "- `RobustScaler()`\n",
    "- `MinMaxSclaer()`\n",
    "\n",
    "\n",
    "Probable Imputers for imputing missing values:\n",
    "- `SimpleImputer()` with different options (mean, median, mode)\n",
    "- `KNN()`\n",
    "\n",
    "### Cross-Validation\n",
    "Since the dataset is imbalanced we are going to apply `StratifiedKFoldCrossValidation` with 5 folds. For a more precise estimation of model performance, we will use the cross-validation along with `Pipeline` to prevent so-called `data leakage` and optimistic results.\n",
    "\n",
    "### Metrics\n",
    "The main metric of the project: `ROC-AUC`. To control the number of `False Positive` and `False Negative` we will include:\n",
    "- `Precision`\n",
    "- `Recall`\n",
    "- `F1-Score`\n",
    "\n",
    "### Class Imbalace\n",
    "In this part, we will apply well-known sampling techniques (e.g. Over/Undersampling methods)"
   ]
  }
 ],
 "metadata": {
  "kernelspec": {
   "display_name": "Python 3",
   "language": "python",
   "name": "python3"
  },
  "language_info": {
   "codemirror_mode": {
    "name": "ipython",
    "version": 3
   },
   "file_extension": ".py",
   "mimetype": "text/x-python",
   "name": "python",
   "nbconvert_exporter": "python",
   "pygments_lexer": "ipython3",
   "version": "3.7.9"
  }
 },
 "nbformat": 4,
 "nbformat_minor": 4
}
